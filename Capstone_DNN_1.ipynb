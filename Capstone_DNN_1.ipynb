{
  "nbformat": 4,
  "nbformat_minor": 0,
  "metadata": {
    "colab": {
      "provenance": []
    },
    "kernelspec": {
      "name": "python3",
      "display_name": "Python 3"
    },
    "language_info": {
      "name": "python"
    }
  },
  "cells": [
    {
      "cell_type": "markdown",
      "source": [
        "## Import Library"
      ],
      "metadata": {
        "id": "79KqvgQgXfTJ"
      }
    },
    {
      "cell_type": "code",
      "execution_count": null,
      "metadata": {
        "id": "ESVrWohHaThh"
      },
      "outputs": [],
      "source": [
        "import pandas as pd\n",
        "import numpy as np\n",
        "import tensorflow as tf\n",
        "import matplotlib.pyplot as plt\n",
        "import seaborn as sns\n",
        "from tensorflow import keras\n",
        "from sklearn.model_selection import train_test_split\n",
        "from keras.models import Sequential\n",
        "from keras.layers import Dense"
      ]
    },
    {
      "cell_type": "markdown",
      "source": [
        "## Import Dataset"
      ],
      "metadata": {
        "id": "7da6ptrIXoyL"
      }
    },
    {
      "cell_type": "code",
      "source": [
        "# import data\n",
        "! gdown --id 17JRs6xeZAFoeldscbTK4e9Ne6xhNDvc4"
      ],
      "metadata": {
        "colab": {
          "base_uri": "https://localhost:8080/"
        },
        "id": "pfHOrHIfaXhg",
        "outputId": "8dbdd204-c6ff-460a-d96a-b16165c86440"
      },
      "execution_count": null,
      "outputs": [
        {
          "output_type": "stream",
          "name": "stdout",
          "text": [
            "/usr/local/lib/python3.10/dist-packages/gdown/cli.py:121: FutureWarning: Option `--id` was deprecated in version 4.3.1 and will be removed in 5.0. You don't need to pass it anymore to use a file ID.\n",
            "  warnings.warn(\n",
            "Downloading...\n",
            "From: https://drive.google.com/uc?id=17JRs6xeZAFoeldscbTK4e9Ne6xhNDvc4\n",
            "To: /content/16P.csv\n",
            "100% 8.98M/8.98M [00:00<00:00, 71.6MB/s]\n"
          ]
        }
      ]
    },
    {
      "cell_type": "code",
      "source": [
        "mbti = pd.read_csv('16P.csv', encoding='cp1252')\n",
        "mbti.head()"
      ],
      "metadata": {
        "colab": {
          "base_uri": "https://localhost:8080/",
          "height": 560
        },
        "id": "r6TPnrA3a73G",
        "outputId": "ab305e1a-07fc-4efc-dffb-5e05c4d1c43d"
      },
      "execution_count": null,
      "outputs": [
        {
          "output_type": "execute_result",
          "data": {
            "text/plain": [
              "   Response Id  You regularly make new friends.  \\\n",
              "0            0                                0   \n",
              "1            1                                0   \n",
              "2            2                                0   \n",
              "3            3                                0   \n",
              "4            4                                0   \n",
              "\n",
              "   You spend a lot of your free time exploring various random topics that pique your interest  \\\n",
              "0                                                  0                                            \n",
              "1                                                  0                                            \n",
              "2                                                  0                                            \n",
              "3                                                 -1                                            \n",
              "4                                                  0                                            \n",
              "\n",
              "   Seeing other people cry can easily make you feel like you want to cry too  \\\n",
              "0                                                  0                           \n",
              "1                                                 -2                           \n",
              "2                                                  2                           \n",
              "3                                                  3                           \n",
              "4                                                 -1                           \n",
              "\n",
              "   You often make a backup plan for a backup plan.  \\\n",
              "0                                                0   \n",
              "1                                               -3   \n",
              "2                                                0   \n",
              "3                                               -1   \n",
              "4                                                0   \n",
              "\n",
              "   You usually stay calm, even under a lot of pressure  \\\n",
              "0                                                  0     \n",
              "1                                                 -1     \n",
              "2                                                 -1     \n",
              "3                                                  0     \n",
              "4                                                  2     \n",
              "\n",
              "   At social events, you rarely try to introduce yourself to new people and mostly talk to the ones you already know  \\\n",
              "0                                                  1                                                                   \n",
              "1                                                  2                                                                   \n",
              "2                                                  2                                                                   \n",
              "3                                                  0                                                                   \n",
              "4                                                 -1                                                                   \n",
              "\n",
              "   You prefer to completely finish one project before starting another.  \\\n",
              "0                                                  1                      \n",
              "1                                                 -2                      \n",
              "2                                                  0                      \n",
              "3                                                 -2                      \n",
              "4                                                 -2                      \n",
              "\n",
              "   You are very sentimental.  \\\n",
              "0                          0   \n",
              "1                          0   \n",
              "2                          0   \n",
              "3                          0   \n",
              "4                          0   \n",
              "\n",
              "   You like to use organizing tools like schedules and lists.  ...  \\\n",
              "0                                                  0           ...   \n",
              "1                                                  3           ...   \n",
              "2                                                  1           ...   \n",
              "3                                                 -2           ...   \n",
              "4                                                  1           ...   \n",
              "\n",
              "   You believe that pondering abstract philosophical questions is a waste of time.  \\\n",
              "0                                                  0                                 \n",
              "1                                                  0                                 \n",
              "2                                                  0                                 \n",
              "3                                                  0                                 \n",
              "4                                                  0                                 \n",
              "\n",
              "   You feel more drawn to places with busy, bustling atmospheres than quiet, intimate places.  \\\n",
              "0                                                  0                                            \n",
              "1                                                 -2                                            \n",
              "2                                                  2                                            \n",
              "3                                                  0                                            \n",
              "4                                                  1                                            \n",
              "\n",
              "   You know at first glance how someone is feeling.  \\\n",
              "0                                                 0   \n",
              "1                                                 0   \n",
              "2                                                 0   \n",
              "3                                                -1   \n",
              "4                                                 0   \n",
              "\n",
              "   You often feel overwhelmed.  \\\n",
              "0                           -1   \n",
              "1                            2   \n",
              "2                            2   \n",
              "3                           -1   \n",
              "4                            2   \n",
              "\n",
              "   You complete things methodically without skipping over any steps.  \\\n",
              "0                                                  0                   \n",
              "1                                                  0                   \n",
              "2                                                 -1                   \n",
              "3                                                  0                   \n",
              "4                                                  0                   \n",
              "\n",
              "   You are very intrigued by things labeled as controversial.  \\\n",
              "0                                                  0            \n",
              "1                                                 -1            \n",
              "2                                                  0            \n",
              "3                                                  1            \n",
              "4                                                  1            \n",
              "\n",
              "   You would pass along a good opportunity if you thought someone else needed it more.  \\\n",
              "0                                                  0                                     \n",
              "1                                                 -1                                     \n",
              "2                                                  1                                     \n",
              "3                                                  0                                     \n",
              "4                                                 -1                                     \n",
              "\n",
              "   You struggle with deadlines.  \\\n",
              "0                             0   \n",
              "1                            -1   \n",
              "2                             2   \n",
              "3                            -2   \n",
              "4                             2   \n",
              "\n",
              "   You feel confident that things will work out for you.  Personality  \n",
              "0                                                  0             ENFP  \n",
              "1                                                  3             ISFP  \n",
              "2                                                  1             INFJ  \n",
              "3                                                 -1             ISTP  \n",
              "4                                                 -1             ENFJ  \n",
              "\n",
              "[5 rows x 62 columns]"
            ],
            "text/html": [
              "\n",
              "  <div id=\"df-846486b0-f9b7-4993-b363-d802050c2e5b\">\n",
              "    <div class=\"colab-df-container\">\n",
              "      <div>\n",
              "<style scoped>\n",
              "    .dataframe tbody tr th:only-of-type {\n",
              "        vertical-align: middle;\n",
              "    }\n",
              "\n",
              "    .dataframe tbody tr th {\n",
              "        vertical-align: top;\n",
              "    }\n",
              "\n",
              "    .dataframe thead th {\n",
              "        text-align: right;\n",
              "    }\n",
              "</style>\n",
              "<table border=\"1\" class=\"dataframe\">\n",
              "  <thead>\n",
              "    <tr style=\"text-align: right;\">\n",
              "      <th></th>\n",
              "      <th>Response Id</th>\n",
              "      <th>You regularly make new friends.</th>\n",
              "      <th>You spend a lot of your free time exploring various random topics that pique your interest</th>\n",
              "      <th>Seeing other people cry can easily make you feel like you want to cry too</th>\n",
              "      <th>You often make a backup plan for a backup plan.</th>\n",
              "      <th>You usually stay calm, even under a lot of pressure</th>\n",
              "      <th>At social events, you rarely try to introduce yourself to new people and mostly talk to the ones you already know</th>\n",
              "      <th>You prefer to completely finish one project before starting another.</th>\n",
              "      <th>You are very sentimental.</th>\n",
              "      <th>You like to use organizing tools like schedules and lists.</th>\n",
              "      <th>...</th>\n",
              "      <th>You believe that pondering abstract philosophical questions is a waste of time.</th>\n",
              "      <th>You feel more drawn to places with busy, bustling atmospheres than quiet, intimate places.</th>\n",
              "      <th>You know at first glance how someone is feeling.</th>\n",
              "      <th>You often feel overwhelmed.</th>\n",
              "      <th>You complete things methodically without skipping over any steps.</th>\n",
              "      <th>You are very intrigued by things labeled as controversial.</th>\n",
              "      <th>You would pass along a good opportunity if you thought someone else needed it more.</th>\n",
              "      <th>You struggle with deadlines.</th>\n",
              "      <th>You feel confident that things will work out for you.</th>\n",
              "      <th>Personality</th>\n",
              "    </tr>\n",
              "  </thead>\n",
              "  <tbody>\n",
              "    <tr>\n",
              "      <th>0</th>\n",
              "      <td>0</td>\n",
              "      <td>0</td>\n",
              "      <td>0</td>\n",
              "      <td>0</td>\n",
              "      <td>0</td>\n",
              "      <td>0</td>\n",
              "      <td>1</td>\n",
              "      <td>1</td>\n",
              "      <td>0</td>\n",
              "      <td>0</td>\n",
              "      <td>...</td>\n",
              "      <td>0</td>\n",
              "      <td>0</td>\n",
              "      <td>0</td>\n",
              "      <td>-1</td>\n",
              "      <td>0</td>\n",
              "      <td>0</td>\n",
              "      <td>0</td>\n",
              "      <td>0</td>\n",
              "      <td>0</td>\n",
              "      <td>ENFP</td>\n",
              "    </tr>\n",
              "    <tr>\n",
              "      <th>1</th>\n",
              "      <td>1</td>\n",
              "      <td>0</td>\n",
              "      <td>0</td>\n",
              "      <td>-2</td>\n",
              "      <td>-3</td>\n",
              "      <td>-1</td>\n",
              "      <td>2</td>\n",
              "      <td>-2</td>\n",
              "      <td>0</td>\n",
              "      <td>3</td>\n",
              "      <td>...</td>\n",
              "      <td>0</td>\n",
              "      <td>-2</td>\n",
              "      <td>0</td>\n",
              "      <td>2</td>\n",
              "      <td>0</td>\n",
              "      <td>-1</td>\n",
              "      <td>-1</td>\n",
              "      <td>-1</td>\n",
              "      <td>3</td>\n",
              "      <td>ISFP</td>\n",
              "    </tr>\n",
              "    <tr>\n",
              "      <th>2</th>\n",
              "      <td>2</td>\n",
              "      <td>0</td>\n",
              "      <td>0</td>\n",
              "      <td>2</td>\n",
              "      <td>0</td>\n",
              "      <td>-1</td>\n",
              "      <td>2</td>\n",
              "      <td>0</td>\n",
              "      <td>0</td>\n",
              "      <td>1</td>\n",
              "      <td>...</td>\n",
              "      <td>0</td>\n",
              "      <td>2</td>\n",
              "      <td>0</td>\n",
              "      <td>2</td>\n",
              "      <td>-1</td>\n",
              "      <td>0</td>\n",
              "      <td>1</td>\n",
              "      <td>2</td>\n",
              "      <td>1</td>\n",
              "      <td>INFJ</td>\n",
              "    </tr>\n",
              "    <tr>\n",
              "      <th>3</th>\n",
              "      <td>3</td>\n",
              "      <td>0</td>\n",
              "      <td>-1</td>\n",
              "      <td>3</td>\n",
              "      <td>-1</td>\n",
              "      <td>0</td>\n",
              "      <td>0</td>\n",
              "      <td>-2</td>\n",
              "      <td>0</td>\n",
              "      <td>-2</td>\n",
              "      <td>...</td>\n",
              "      <td>0</td>\n",
              "      <td>0</td>\n",
              "      <td>-1</td>\n",
              "      <td>-1</td>\n",
              "      <td>0</td>\n",
              "      <td>1</td>\n",
              "      <td>0</td>\n",
              "      <td>-2</td>\n",
              "      <td>-1</td>\n",
              "      <td>ISTP</td>\n",
              "    </tr>\n",
              "    <tr>\n",
              "      <th>4</th>\n",
              "      <td>4</td>\n",
              "      <td>0</td>\n",
              "      <td>0</td>\n",
              "      <td>-1</td>\n",
              "      <td>0</td>\n",
              "      <td>2</td>\n",
              "      <td>-1</td>\n",
              "      <td>-2</td>\n",
              "      <td>0</td>\n",
              "      <td>1</td>\n",
              "      <td>...</td>\n",
              "      <td>0</td>\n",
              "      <td>1</td>\n",
              "      <td>0</td>\n",
              "      <td>2</td>\n",
              "      <td>0</td>\n",
              "      <td>1</td>\n",
              "      <td>-1</td>\n",
              "      <td>2</td>\n",
              "      <td>-1</td>\n",
              "      <td>ENFJ</td>\n",
              "    </tr>\n",
              "  </tbody>\n",
              "</table>\n",
              "<p>5 rows × 62 columns</p>\n",
              "</div>\n",
              "      <button class=\"colab-df-convert\" onclick=\"convertToInteractive('df-846486b0-f9b7-4993-b363-d802050c2e5b')\"\n",
              "              title=\"Convert this dataframe to an interactive table.\"\n",
              "              style=\"display:none;\">\n",
              "        \n",
              "  <svg xmlns=\"http://www.w3.org/2000/svg\" height=\"24px\"viewBox=\"0 0 24 24\"\n",
              "       width=\"24px\">\n",
              "    <path d=\"M0 0h24v24H0V0z\" fill=\"none\"/>\n",
              "    <path d=\"M18.56 5.44l.94 2.06.94-2.06 2.06-.94-2.06-.94-.94-2.06-.94 2.06-2.06.94zm-11 1L8.5 8.5l.94-2.06 2.06-.94-2.06-.94L8.5 2.5l-.94 2.06-2.06.94zm10 10l.94 2.06.94-2.06 2.06-.94-2.06-.94-.94-2.06-.94 2.06-2.06.94z\"/><path d=\"M17.41 7.96l-1.37-1.37c-.4-.4-.92-.59-1.43-.59-.52 0-1.04.2-1.43.59L10.3 9.45l-7.72 7.72c-.78.78-.78 2.05 0 2.83L4 21.41c.39.39.9.59 1.41.59.51 0 1.02-.2 1.41-.59l7.78-7.78 2.81-2.81c.8-.78.8-2.07 0-2.86zM5.41 20L4 18.59l7.72-7.72 1.47 1.35L5.41 20z\"/>\n",
              "  </svg>\n",
              "      </button>\n",
              "      \n",
              "  <style>\n",
              "    .colab-df-container {\n",
              "      display:flex;\n",
              "      flex-wrap:wrap;\n",
              "      gap: 12px;\n",
              "    }\n",
              "\n",
              "    .colab-df-convert {\n",
              "      background-color: #E8F0FE;\n",
              "      border: none;\n",
              "      border-radius: 50%;\n",
              "      cursor: pointer;\n",
              "      display: none;\n",
              "      fill: #1967D2;\n",
              "      height: 32px;\n",
              "      padding: 0 0 0 0;\n",
              "      width: 32px;\n",
              "    }\n",
              "\n",
              "    .colab-df-convert:hover {\n",
              "      background-color: #E2EBFA;\n",
              "      box-shadow: 0px 1px 2px rgba(60, 64, 67, 0.3), 0px 1px 3px 1px rgba(60, 64, 67, 0.15);\n",
              "      fill: #174EA6;\n",
              "    }\n",
              "\n",
              "    [theme=dark] .colab-df-convert {\n",
              "      background-color: #3B4455;\n",
              "      fill: #D2E3FC;\n",
              "    }\n",
              "\n",
              "    [theme=dark] .colab-df-convert:hover {\n",
              "      background-color: #434B5C;\n",
              "      box-shadow: 0px 1px 3px 1px rgba(0, 0, 0, 0.15);\n",
              "      filter: drop-shadow(0px 1px 2px rgba(0, 0, 0, 0.3));\n",
              "      fill: #FFFFFF;\n",
              "    }\n",
              "  </style>\n",
              "\n",
              "      <script>\n",
              "        const buttonEl =\n",
              "          document.querySelector('#df-846486b0-f9b7-4993-b363-d802050c2e5b button.colab-df-convert');\n",
              "        buttonEl.style.display =\n",
              "          google.colab.kernel.accessAllowed ? 'block' : 'none';\n",
              "\n",
              "        async function convertToInteractive(key) {\n",
              "          const element = document.querySelector('#df-846486b0-f9b7-4993-b363-d802050c2e5b');\n",
              "          const dataTable =\n",
              "            await google.colab.kernel.invokeFunction('convertToInteractive',\n",
              "                                                     [key], {});\n",
              "          if (!dataTable) return;\n",
              "\n",
              "          const docLinkHtml = 'Like what you see? Visit the ' +\n",
              "            '<a target=\"_blank\" href=https://colab.research.google.com/notebooks/data_table.ipynb>data table notebook</a>'\n",
              "            + ' to learn more about interactive tables.';\n",
              "          element.innerHTML = '';\n",
              "          dataTable['output_type'] = 'display_data';\n",
              "          await google.colab.output.renderOutput(dataTable, element);\n",
              "          const docLink = document.createElement('div');\n",
              "          docLink.innerHTML = docLinkHtml;\n",
              "          element.appendChild(docLink);\n",
              "        }\n",
              "      </script>\n",
              "    </div>\n",
              "  </div>\n",
              "  "
            ]
          },
          "metadata": {},
          "execution_count": 4
        }
      ]
    },
    {
      "cell_type": "code",
      "source": [
        "# Melihat informasi tentang data\n",
        "print(mbti.info())"
      ],
      "metadata": {
        "colab": {
          "base_uri": "https://localhost:8080/"
        },
        "id": "wyX7DtxzioFk",
        "outputId": "67f5565e-6844-45a0-d3a1-601e199ecfb8"
      },
      "execution_count": null,
      "outputs": [
        {
          "output_type": "stream",
          "name": "stdout",
          "text": [
            "<class 'pandas.core.frame.DataFrame'>\n",
            "RangeIndex: 59999 entries, 0 to 59998\n",
            "Data columns (total 62 columns):\n",
            " #   Column                                                                                                                Non-Null Count  Dtype \n",
            "---  ------                                                                                                                --------------  ----- \n",
            " 0   Response Id                                                                                                           59999 non-null  int64 \n",
            " 1   You regularly make new friends.                                                                                       59999 non-null  int64 \n",
            " 2   You spend a lot of your free time exploring various random topics that pique your interest                            59999 non-null  int64 \n",
            " 3   Seeing other people cry can easily make you feel like you want to cry too                                             59999 non-null  int64 \n",
            " 4   You often make a backup plan for a backup plan.                                                                       59999 non-null  int64 \n",
            " 5   You usually stay calm, even under a lot of pressure                                                                   59999 non-null  int64 \n",
            " 6   At social events, you rarely try to introduce yourself to new people and mostly talk to the ones you already know     59999 non-null  int64 \n",
            " 7   You prefer to completely finish one project before starting another.                                                  59999 non-null  int64 \n",
            " 8   You are very sentimental.                                                                                             59999 non-null  int64 \n",
            " 9   You like to use organizing tools like schedules and lists.                                                            59999 non-null  int64 \n",
            " 10  Even a small mistake can cause you to doubt your overall abilities and knowledge.                                     59999 non-null  int64 \n",
            " 11  You feel comfortable just walking up to someone you find interesting and striking up a conversation.                  59999 non-null  int64 \n",
            " 12  You are not too interested in discussing various interpretations and analyses of creative works.                      59999 non-null  int64 \n",
            " 13  You are more inclined to follow your head than your heart.                                                            59999 non-null  int64 \n",
            " 14  You usually prefer just doing what you feel like at any given moment instead of planning a particular daily routine.  59999 non-null  int64 \n",
            " 15  You rarely worry about whether you make a good impression on people you meet.                                         59999 non-null  int64 \n",
            " 16  You enjoy participating in group activities.                                                                          59999 non-null  int64 \n",
            " 17  You like books and movies that make you come up with your own interpretation of the ending.                           59999 non-null  int64 \n",
            " 18  Your happiness comes more from helping others accomplish things than your own accomplishments.                        59999 non-null  int64 \n",
            " 19  You are interested in so many things that you find it difficult to choose what to try next.                           59999 non-null  int64 \n",
            " 20  You are prone to worrying that things will take a turn for the worse.                                                 59999 non-null  int64 \n",
            " 21  You avoid leadership roles in group settings.                                                                         59999 non-null  int64 \n",
            " 22  You are definitely not an artistic type of person.                                                                    59999 non-null  int64 \n",
            " 23  You think the world would be a better place if people relied more on rationality and less on their feelings.          59999 non-null  int64 \n",
            " 24  You prefer to do your chores before allowing yourself to relax.                                                       59999 non-null  int64 \n",
            " 25  You enjoy watching people argue.                                                                                      59999 non-null  int64 \n",
            " 26  You tend to avoid drawing attention to yourself.                                                                      59999 non-null  int64 \n",
            " 27  Your mood can change very quickly.                                                                                    59999 non-null  int64 \n",
            " 28  You lose patience with people who are not as efficient as you.                                                        59999 non-null  int64 \n",
            " 29  You often end up doing things at the last possible moment.                                                            59999 non-null  int64 \n",
            " 30  You have always been fascinated by the question of what, if anything, happens after death.                            59999 non-null  int64 \n",
            " 31  You usually prefer to be around others rather than on your own.                                                       59999 non-null  int64 \n",
            " 32  You become bored or lose interest when the discussion gets highly theoretical.                                        59999 non-null  int64 \n",
            " 33  You find it easy to empathize with a person whose experiences are very different from yours.                          59999 non-null  int64 \n",
            " 34  You usually postpone finalizing decisions for as long as possible.                                                    59999 non-null  int64 \n",
            " 35  You rarely second-guess the choices that you have made.                                                               59999 non-null  int64 \n",
            " 36  After a long and exhausting week, a lively social event is just what you need.                                        59999 non-null  int64 \n",
            " 37  You enjoy going to art museums.                                                                                       59999 non-null  int64 \n",
            " 38  You often have a hard time understanding other people’s feelings.                                                     59999 non-null  int64 \n",
            " 39  You like to have a to-do list for each day.                                                                           59999 non-null  int64 \n",
            " 40  You rarely feel insecure.                                                                                             59999 non-null  int64 \n",
            " 41  You avoid making phone calls.                                                                                         59999 non-null  int64 \n",
            " 42  You often spend a lot of time trying to understand views that are very different from your own.                       59999 non-null  int64 \n",
            " 43  In your social circle, you are often the one who contacts your friends and initiates activities.                      59999 non-null  int64 \n",
            " 44  If your plans are interrupted, your top priority is to get back on track as soon as possible.                         59999 non-null  int64 \n",
            " 45  You are still bothered by mistakes that you made a long time ago.                                                     59999 non-null  int64 \n",
            " 46  You rarely contemplate the reasons for human existence or the meaning of life.                                        59999 non-null  int64 \n",
            " 47  Your emotions control you more than you control them.                                                                 59999 non-null  int64 \n",
            " 48  You take great care not to make people look bad, even when it is completely their fault.                              59999 non-null  int64 \n",
            " 49  Your personal work style is closer to spontaneous bursts of energy than organized and consistent efforts.             59999 non-null  int64 \n",
            " 50  When someone thinks highly of you, you wonder how long it will take them to feel disappointed in you.                 59999 non-null  int64 \n",
            " 51  You would love a job that requires you to work alone most of the time.                                                59999 non-null  int64 \n",
            " 52  You believe that pondering abstract philosophical questions is a waste of time.                                       59999 non-null  int64 \n",
            " 53  You feel more drawn to places with busy, bustling atmospheres than quiet, intimate places.                            59999 non-null  int64 \n",
            " 54  You know at first glance how someone is feeling.                                                                      59999 non-null  int64 \n",
            " 55  You often feel overwhelmed.                                                                                           59999 non-null  int64 \n",
            " 56  You complete things methodically without skipping over any steps.                                                     59999 non-null  int64 \n",
            " 57  You are very intrigued by things labeled as controversial.                                                            59999 non-null  int64 \n",
            " 58  You would pass along a good opportunity if you thought someone else needed it more.                                   59999 non-null  int64 \n",
            " 59  You struggle with deadlines.                                                                                          59999 non-null  int64 \n",
            " 60  You feel confident that things will work out for you.                                                                 59999 non-null  int64 \n",
            " 61  Personality                                                                                                           59999 non-null  object\n",
            "dtypes: int64(61), object(1)\n",
            "memory usage: 28.4+ MB\n",
            "None\n"
          ]
        }
      ]
    },
    {
      "cell_type": "code",
      "source": [
        "# Memeriksa apakah ada data kosong\n",
        "print(\"Jumlah data kosong: \", mbti.isnull().sum().sum())"
      ],
      "metadata": {
        "colab": {
          "base_uri": "https://localhost:8080/"
        },
        "id": "-5iOy9sgjsZA",
        "outputId": "541256e7-a9f6-44c2-8318-15a36d07bb8a"
      },
      "execution_count": null,
      "outputs": [
        {
          "output_type": "stream",
          "name": "stdout",
          "text": [
            "Jumlah data kosong:  0\n"
          ]
        }
      ]
    },
    {
      "cell_type": "code",
      "source": [
        "# Memeriksa apakah ada data duplikat \n",
        "print(\"Jumlah data duplikat:\", mbti.duplicated().sum())"
      ],
      "metadata": {
        "colab": {
          "base_uri": "https://localhost:8080/"
        },
        "id": "rHqe3APekAzX",
        "outputId": "850cb672-5ae8-4385-9a0b-ab0d50298f82"
      },
      "execution_count": null,
      "outputs": [
        {
          "output_type": "stream",
          "name": "stdout",
          "text": [
            "Jumlah data duplikat: 0\n"
          ]
        }
      ]
    },
    {
      "cell_type": "code",
      "source": [
        "mbti[\"Personality\"].value_counts()"
      ],
      "metadata": {
        "colab": {
          "base_uri": "https://localhost:8080/"
        },
        "id": "7z4aAg89nVjN",
        "outputId": "9a8824c4-ba75-47d5-f554-b6d7d54636ee"
      },
      "execution_count": null,
      "outputs": [
        {
          "output_type": "execute_result",
          "data": {
            "text/plain": [
              "ESFP    3769\n",
              "INFJ    3761\n",
              "ENFP    3760\n",
              "ENTP    3760\n",
              "ESTJ    3759\n",
              "ISTJ    3756\n",
              "ISTP    3755\n",
              "ESTP    3749\n",
              "ISFP    3746\n",
              "ESFJ    3746\n",
              "ENFJ    3743\n",
              "INTJ    3743\n",
              "INTP    3742\n",
              "ISFJ    3739\n",
              "ENTJ    3737\n",
              "INFP    3734\n",
              "Name: Personality, dtype: int64"
            ]
          },
          "metadata": {},
          "execution_count": 11
        }
      ]
    },
    {
      "cell_type": "code",
      "source": [
        "# Memisahkan fitur dan label\n",
        "X = mbti.iloc[:, 1:-1]  # Kolom fitur dimulai dari indeks 1 hingga sebelum kolom terakhir\n",
        "y = mbti.iloc[:, -1]   # Kolom label adalah kolom terakhir"
      ],
      "metadata": {
        "id": "pF0ejqNZa27g"
      },
      "execution_count": null,
      "outputs": []
    },
    {
      "cell_type": "code",
      "source": [
        "plt.figure(figsize=(15, 7))\n",
        "sns.countplot(x=y)\n",
        "plt.title(\"The number of digit classes\")"
      ],
      "metadata": {
        "colab": {
          "base_uri": "https://localhost:8080/",
          "height": 659
        },
        "id": "ZgYSk38plTW_",
        "outputId": "075e8307-6ca0-414e-aaf9-e62562c33bde"
      },
      "execution_count": null,
      "outputs": [
        {
          "output_type": "execute_result",
          "data": {
            "text/plain": [
              "Text(0.5, 1.0, 'The number of digit classes')"
            ]
          },
          "metadata": {},
          "execution_count": 14
        },
        {
          "output_type": "display_data",
          "data": {
            "text/plain": [
              "<Figure size 1500x700 with 1 Axes>"
            ],
            "image/png": "[encoded data removed]"
          },
          "metadata": {}
        }
      ]
    },
    {
      "cell_type": "code",
      "source": [
        "# Konversi label menjadi numerik menggunakan one-hot encoding\n",
        "y_encoded = pd.get_dummies(y)"
      ],
      "metadata": {
        "id": "_YHB8VFobMo0"
      },
      "execution_count": null,
      "outputs": []
    },
    {
      "cell_type": "code",
      "source": [
        "# Memisahkan data menjadi data pelatihan dan data pengujian\n",
        "X_train, X_test, y_train, y_test = train_test_split(X, y_encoded, test_size=0.2, random_state=42)\n",
        "print(X_train.shape)\n",
        "print(X_test.shape)\n",
        "print(y_train.shape)\n",
        "print(y_test.shape)"
      ],
      "metadata": {
        "colab": {
          "base_uri": "https://localhost:8080/"
        },
        "id": "p3Xzcv_ubRBT",
        "outputId": "d7df7536-8d33-4d12-b3ce-a8f4a7426761"
      },
      "execution_count": null,
      "outputs": [
        {
          "output_type": "stream",
          "name": "stdout",
          "text": [
            "(47999, 60)\n",
            "(12000, 60)\n",
            "(47999, 16)\n",
            "(12000, 16)\n"
          ]
        }
      ]
    },
    {
      "cell_type": "code",
      "source": [
        "# Membangun model\n",
        "model = tf.keras.Sequential([\n",
        "    keras.layers.Dense(64, activation='relu', input_dim=X_train.shape[1]),\n",
        "    keras.layers.Dropout(0.2),\n",
        "    keras.layers.Dense(64, activation='relu',),\n",
        "    keras.layers.Dense(y_encoded.shape[1], activation='softmax')\n",
        "])\n",
        "\n",
        "# Menentukan fungsi loss dan optimizer\n",
        "model.compile(loss='categorical_crossentropy', optimizer='adam', metrics=['accuracy'])\n",
        "\n",
        "model.summary()"
      ],
      "metadata": {
        "colab": {
          "base_uri": "https://localhost:8080/"
        },
        "id": "EIkiPg70bV_f",
        "outputId": "53e6d8b9-900b-4d27-fd91-bb952b1f8eca"
      },
      "execution_count": null,
      "outputs": [
        {
          "output_type": "stream",
          "name": "stdout",
          "text": [
            "Model: \"sequential\"\n",
            "_________________________________________________________________\n",
            " Layer (type)                Output Shape              Param #   \n",
            "=================================================================\n",
            " dense (Dense)               (None, 64)                3904      \n",
            "                                                                 \n",
            " dropout (Dropout)           (None, 64)                0         \n",
            "                                                                 \n",
            " dense_1 (Dense)             (None, 64)                4160      \n",
            "                                                                 \n",
            " dense_2 (Dense)             (None, 16)                1040      \n",
            "                                                                 \n",
            "=================================================================\n",
            "Total params: 9,104\n",
            "Trainable params: 9,104\n",
            "Non-trainable params: 0\n",
            "_________________________________________________________________\n"
          ]
        }
      ]
    },
    {
      "cell_type": "code",
      "source": [
        "# Melatih model\n",
        "history = model.fit(X_train, y_train, epochs=10, batch_size=16, validation_data=(X_test, y_test))\n"
      ],
      "metadata": {
        "colab": {
          "base_uri": "https://localhost:8080/"
        },
        "id": "g1yPxNtLbvQL",
        "outputId": "88f576c2-206c-46c4-b30a-09ac5976b965"
      },
      "execution_count": null,
      "outputs": [
        {
          "output_type": "stream",
          "name": "stdout",
          "text": [
            "Epoch 1/10\n",
            "3000/3000 [==============================] - 8s 2ms/step - loss: 0.5276 - accuracy: 0.8558 - val_loss: 0.1941 - val_accuracy: 0.9636\n",
            "Epoch 2/10\n",
            "3000/3000 [==============================] - 7s 2ms/step - loss: 0.2653 - accuracy: 0.9395 - val_loss: 0.1664 - val_accuracy: 0.9729\n",
            "Epoch 3/10\n",
            "3000/3000 [==============================] - 6s 2ms/step - loss: 0.2309 - accuracy: 0.9514 - val_loss: 0.1608 - val_accuracy: 0.9743\n",
            "Epoch 4/10\n",
            "3000/3000 [==============================] - 7s 2ms/step - loss: 0.2108 - accuracy: 0.9582 - val_loss: 0.1568 - val_accuracy: 0.9776\n",
            "Epoch 5/10\n",
            "3000/3000 [==============================] - 6s 2ms/step - loss: 0.2012 - accuracy: 0.9610 - val_loss: 0.1588 - val_accuracy: 0.9768\n",
            "Epoch 6/10\n",
            "3000/3000 [==============================] - 7s 2ms/step - loss: 0.1934 - accuracy: 0.9621 - val_loss: 0.1536 - val_accuracy: 0.9793\n",
            "Epoch 7/10\n",
            "3000/3000 [==============================] - 6s 2ms/step - loss: 0.1873 - accuracy: 0.9626 - val_loss: 0.1564 - val_accuracy: 0.9784\n",
            "Epoch 8/10\n",
            "3000/3000 [==============================] - 7s 2ms/step - loss: 0.1793 - accuracy: 0.9662 - val_loss: 0.1530 - val_accuracy: 0.9787\n",
            "Epoch 9/10\n",
            "3000/3000 [==============================] - 6s 2ms/step - loss: 0.1789 - accuracy: 0.9654 - val_loss: 0.1499 - val_accuracy: 0.9809\n",
            "Epoch 10/10\n",
            "3000/3000 [==============================] - 7s 2ms/step - loss: 0.1763 - accuracy: 0.9657 - val_loss: 0.1480 - val_accuracy: 0.9797\n"
          ]
        }
      ]
    },
    {
      "cell_type": "code",
      "source": [
        "# Plot grafik untuk akurasi dan loss pada training dan validasi\n",
        "acc = history.history['accuracy']\n",
        "val_acc = history.history['val_accuracy']\n",
        "loss = history.history['loss']\n",
        "val_loss = history.history['val_loss']\n",
        "\n",
        "epochs = range(len(acc))\n",
        "\n",
        "plt.plot(epochs, acc, 'r', label='Training accuracy')\n",
        "plt.plot(epochs, val_acc, 'b', label='Validation accuracy')\n",
        "plt.title('Training and validation accuracy')\n",
        "plt.legend()\n",
        "plt.figure()\n",
        "\n",
        "plt.plot(epochs, loss, 'r', label='Training Loss')\n",
        "plt.plot(epochs, val_loss, 'b', label='Validation Loss')\n",
        "plt.title('Training and validation loss')\n",
        "plt.legend()\n",
        "\n",
        "plt.show()"
      ],
      "metadata": {
        "colab": {
          "base_uri": "https://localhost:8080/",
          "height": 887
        },
        "id": "dhMKz7MUUiz8",
        "outputId": "4ccd8648-4796-4a4d-d7a9-3ce49f24fbee"
      },
      "execution_count": null,
      "outputs": [
        {
          "output_type": "display_data",
          "data": {
            "text/plain": [
              "<Figure size 640x480 with 1 Axes>"
            ],
            "image/png": "[encoded data removed]"
          },
          "metadata": {}
        },
        {
          "output_type": "display_data",
          "data": {
            "text/plain": [
              "<Figure size 640x480 with 1 Axes>"
            ],
            "image/png": "[encoded data removed]"
          },
          "metadata": {}
        }
      ]
    },
    {
      "cell_type": "code",
      "source": [
        "# Evaluasi model pada data pengujian\n",
        "loss, accuracy = model.evaluate(X_test, y_test)\n",
        "print('Test loss:', loss)\n",
        "print('Test accuracy:', accuracy)"
      ],
      "metadata": {
        "colab": {
          "base_uri": "https://localhost:8080/"
        },
        "id": "1QQBWJbHWgeV",
        "outputId": "3f65dca5-5e1b-4992-b4b0-cbbb3493eb77"
      },
      "execution_count": null,
      "outputs": [
        {
          "output_type": "stream",
          "name": "stdout",
          "text": [
            "375/375 [==============================] - 1s 2ms/step - loss: 0.1480 - accuracy: 0.9797\n",
            "Test loss: 0.14802700281143188\n",
            "Test accuracy: 0.9796666502952576\n"
          ]
        }
      ]
    }
  ]
}